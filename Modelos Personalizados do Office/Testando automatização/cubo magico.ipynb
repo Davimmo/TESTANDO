{
 "cells": [
  {
   "cell_type": "code",
   "execution_count": 58,
   "id": "3dcd9778",
   "metadata": {},
   "outputs": [
    {
     "name": "stdout",
     "output_type": "stream",
     "text": [
      "Essas são as coordenadas dos meio:[[1, 1, 2], [1, 2, 1], [1, 2, 3], [1, 3, 2], [2, 1, 1], [2, 1, 3], [2, 3, 1], [2, 3, 3], [3, 1, 2], [3, 2, 1], [3, 2, 3], [3, 3, 2]]\n"
     ]
    }
   ],
   "source": [
    "posições=[]\n",
    "quinas=[]\n",
    "meios=[]\n",
    "centros=[]\n",
    "nucleo=[]\n",
    "\n",
    "\n",
    "class cubo:\n",
    "    \n",
    "    \n",
    "    \n",
    "    \n",
    "    \n",
    "    \n",
    "    def gerar_posições(): \n",
    "        for altura in range(1,4):\n",
    "            for largura in range(1,4):\n",
    "                for profundidade in range(1,4):\n",
    "                    posições.append([altura,largura,profundidade])\n",
    "\n",
    "    \n",
    "\n",
    "        for peças in posições:\n",
    "            if 2 not in peças:\n",
    "                quinas.append(peças)\n",
    "            \n",
    "            elif peças.count(2)==2:\n",
    "                centros.append(peças)\n",
    "            \n",
    "            elif peças==[2,2,2]:\n",
    "                nucleo.append(peças)\n",
    "            \n",
    "            else:\n",
    "                meios.append(peças)\n",
    "\n",
    "    def gerarquinas():print(f'Essas são as coordenadas das quinas:{quinas}')\n",
    "    def gerarmeios():print(f'Essas são as coordenadas dos meio:{meios}')\n",
    "    def gerarcentro():print(f'Essas são as coordenadas dos centros:{centros}')\n",
    "    def gerarnucleo():print(f'Essa é a coordenada do núcleo:{nucleo}')\n",
    "\n",
    "\n",
    "cubo.gerar_posições()\n",
    "cubo.gerarmeios()\n",
    "\n",
    "\n",
    "\n",
    "\n",
    "        \n",
    "\n",
    "    \n",
    "    \n",
    "\n",
    "\n",
    "\n",
    "    "
   ]
  }
 ],
 "metadata": {
  "kernelspec": {
   "display_name": "Python 3.11.0 64-bit",
   "language": "python",
   "name": "python3"
  },
  "language_info": {
   "codemirror_mode": {
    "name": "ipython",
    "version": 3
   },
   "file_extension": ".py",
   "mimetype": "text/x-python",
   "name": "python",
   "nbconvert_exporter": "python",
   "pygments_lexer": "ipython3",
   "version": "3.11.0 (main, Oct 24 2022, 18:26:48) [MSC v.1933 64 bit (AMD64)]"
  },
  "vscode": {
   "interpreter": {
    "hash": "b2bdca9d47efd0be40caf8f5322e20e631431483f6472735e1d20637e7243751"
   }
  }
 },
 "nbformat": 4,
 "nbformat_minor": 5
}
