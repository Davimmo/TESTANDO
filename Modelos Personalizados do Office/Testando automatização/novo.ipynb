{
 "cells": [
  {
   "cell_type": "code",
   "execution_count": 52,
   "metadata": {},
   "outputs": [
    {
     "name": "stdout",
     "output_type": "stream",
     "text": [
      "blabla\n"
     ]
    },
    {
     "data": {
      "text/plain": [
       "<function __main__.cubo.__init__(self, posições=[], quinas=[], centros=[], nucleo=[], meios=[])>"
      ]
     },
     "execution_count": 52,
     "metadata": {},
     "output_type": "execute_result"
    }
   ],
   "source": [
    "class cubo:\n",
    "    \n",
    "    def __init__(self,posições=[],quinas=[],centros=[],nucleo=[],meios=[]):\n",
    "\n",
    "        self.__posições=posições\n",
    "        self.__quinas=quinas\n",
    "        self.__centros=centros\n",
    "        self.__nucleo=nucleo\n",
    "        self.__meios=meios\n",
    "\n",
    "\n",
    "    print('blabla')\n",
    "\n",
    "\n",
    "        \n",
    "        \n",
    "        \n",
    "    def gerar_posições(self): \n",
    "        for altura in range(1,4):\n",
    "            for largura in range(1,4):\n",
    "                for profundidade in range(1,4):\n",
    "                    self.posições.append([altura,largura,profundidade])\n",
    "\n",
    "\n",
    "\n",
    "        for peças in self.__posições:\n",
    "            if 2 not in peças:\n",
    "                self.__quinas.append(peças)\n",
    "            \n",
    "            elif peças.count(2)==2:\n",
    "                self.__centros.append(peças)\n",
    "            \n",
    "            elif peças==[2,2,2]:\n",
    "                self.__nucleo.append(peças)\n",
    "            \n",
    "            else:\n",
    "                self.__meios.append(peças)\n",
    "\n",
    "    def gerarquinas(self):print(f'Essas são as coordenadas das quinas:{self.__quinas}')\n",
    "    def gerarmeios(self):print(f'Essas são as coordenadas dos meio:{self.__meios}')\n",
    "    def gerarcentro(self):print(f'Essas são as coordenadas dos centros:{self.__centros}')\n",
    "    def gerarnucleo(self):print(f'Essa é a coordenada do núcleo:{self.__nucleo}')\n",
    "\n",
    "\n",
    "\n",
    "\n"
   ]
  }
 ],
 "metadata": {
  "kernelspec": {
   "display_name": "Python 3.11.0 64-bit",
   "language": "python",
   "name": "python3"
  },
  "language_info": {
   "codemirror_mode": {
    "name": "ipython",
    "version": 3
   },
   "file_extension": ".py",
   "mimetype": "text/x-python",
   "name": "python",
   "nbconvert_exporter": "python",
   "pygments_lexer": "ipython3",
   "version": "3.11.0 (main, Oct 24 2022, 18:26:48) [MSC v.1933 64 bit (AMD64)]"
  },
  "orig_nbformat": 4,
  "vscode": {
   "interpreter": {
    "hash": "b2bdca9d47efd0be40caf8f5322e20e631431483f6472735e1d20637e7243751"
   }
  }
 },
 "nbformat": 4,
 "nbformat_minor": 2
}
