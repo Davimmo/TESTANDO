{
 "cells": [
  {
   "cell_type": "code",
   "execution_count": 2,
   "metadata": {},
   "outputs": [
    {
     "data": {
      "text/plain": [
       "[{'num': 21,\n",
       "  'posição': [3, 1, 3],\n",
       "  'Tipo de peça': 'quina',\n",
       "  'amarelo': 'PU',\n",
       "  'verde': 'PL',\n",
       "  'vermelho': 'PB'},\n",
       " {'num': 24,\n",
       "  'posição': [3, 2, 3],\n",
       "  'Tipo de peça': 'meio',\n",
       "  'amarelo': 'PU',\n",
       "  'vermelho': 'PB'},\n",
       " {'num': 27,\n",
       "  'posição': [3, 3, 3],\n",
       "  'Tipo de peça': 'quina',\n",
       "  'azul': 'PR',\n",
       "  'amarelo': 'PU',\n",
       "  'vermelho': 'PB'},\n",
       " {'num': 18,\n",
       "  'posição': [3, 3, 2],\n",
       "  'Tipo de peça': 'meio',\n",
       "  'azul': 'PR',\n",
       "  'amarelo': 'PU'},\n",
       " {'num': 9,\n",
       "  'posição': [3, 3, 1],\n",
       "  'Tipo de peça': 'quina',\n",
       "  'azul': 'PR',\n",
       "  'amarelo': 'PU',\n",
       "  'laranja': 'PF'},\n",
       " {'num': 6,\n",
       "  'posição': [3, 2, 1],\n",
       "  'Tipo de peça': 'meio',\n",
       "  'amarelo': 'PU',\n",
       "  'laranja': 'PF'},\n",
       " {'num': 3,\n",
       "  'posição': [3, 1, 1],\n",
       "  'Tipo de peça': 'quina',\n",
       "  'amarelo': 'PU',\n",
       "  'verde': 'PL',\n",
       "  'laranja': 'PF'},\n",
       " {'num': 12,\n",
       "  'posição': [3, 1, 2],\n",
       "  'Tipo de peça': 'meio',\n",
       "  'amarelo': 'PU',\n",
       "  'verde': 'PL'}]"
      ]
     },
     "execution_count": 2,
     "metadata": {},
     "output_type": "execute_result"
    }
   ],
   "source": [
    "import cubo\n",
    "\n",
    "cubo.ciclo_de_U\n"
   ]
  }
 ],
 "metadata": {
  "kernelspec": {
   "display_name": "Python 3",
   "language": "python",
   "name": "python3"
  },
  "language_info": {
   "codemirror_mode": {
    "name": "ipython",
    "version": 3
   },
   "file_extension": ".py",
   "mimetype": "text/x-python",
   "name": "python",
   "nbconvert_exporter": "python",
   "pygments_lexer": "ipython3",
   "version": "3.11.0"
  },
  "orig_nbformat": 4,
  "vscode": {
   "interpreter": {
    "hash": "b2bdca9d47efd0be40caf8f5322e20e631431483f6472735e1d20637e7243751"
   }
  }
 },
 "nbformat": 4,
 "nbformat_minor": 2
}
