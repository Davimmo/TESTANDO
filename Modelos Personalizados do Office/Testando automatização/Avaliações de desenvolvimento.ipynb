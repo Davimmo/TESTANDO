{
 "cells": [
  {
   "cell_type": "code",
   "execution_count": 2,
   "id": "93e29da8",
   "metadata": {},
   "outputs": [],
   "source": [
    "import pyautogui as pauto\n",
    "import time\n",
    "    \n",
    "\n",
    "pauto.alert('prepare-se')\n",
    "for n in range (0,40):\n",
    "    \n",
    "    pauto.press('tab')\n",
    "    pauto.press('down')"
   ]
  },
  {
   "cell_type": "code",
   "execution_count": 1,
   "id": "b3a1c226",
   "metadata": {},
   "outputs": [],
   "source": [
    "import pyautogui as pauto\n",
    "import time\n",
    "\n",
    "\n",
    "pauto.hotkey('fn','f3')\n",
    "time.sleep(1)"
   ]
  },
  {
   "cell_type": "code",
   "execution_count": null,
   "id": "facd2e02",
   "metadata": {},
   "outputs": [],
   "source": []
  }
 ],
 "metadata": {
  "kernelspec": {
   "display_name": "Python 3.11.0 64-bit",
   "language": "python",
   "name": "python3"
  },
  "language_info": {
   "codemirror_mode": {
    "name": "ipython",
    "version": 3
   },
   "file_extension": ".py",
   "mimetype": "text/x-python",
   "name": "python",
   "nbconvert_exporter": "python",
   "pygments_lexer": "ipython3",
   "version": "3.11.0 (main, Oct 24 2022, 18:26:48) [MSC v.1933 64 bit (AMD64)]"
  },
  "vscode": {
   "interpreter": {
    "hash": "b2bdca9d47efd0be40caf8f5322e20e631431483f6472735e1d20637e7243751"
   }
  }
 },
 "nbformat": 4,
 "nbformat_minor": 5
}
