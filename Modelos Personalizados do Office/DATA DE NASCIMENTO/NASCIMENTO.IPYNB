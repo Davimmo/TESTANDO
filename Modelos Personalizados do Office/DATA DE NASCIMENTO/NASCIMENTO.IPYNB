{
 "cells": [
  {
   "cell_type": "code",
   "execution_count": 6,
   "metadata": {},
   "outputs": [
    {
     "name": "stdout",
     "output_type": "stream",
     "text": [
      "0     081.747.134-09\n",
      "1     113.668.804-80\n",
      "2     096.916.404-14\n",
      "3     102.606.484-85\n",
      "4     155.555.764-39\n",
      "5     117.676.054-80\n",
      "6     086.957.674-77\n",
      "7       278795868 06\n",
      "8     713.891.284-66\n",
      "9     108.991.164-50\n",
      "10    082.563.074-63\n",
      "11    069.425.694-37\n",
      "12    102.938.704-46\n",
      "13    116.831.424-03\n",
      "14    844.320.474-53\n",
      "15    007.480.954-70\n",
      "16    716.405.964-02\n",
      "17    057.013.854-00\n",
      "18    710.500.894-64\n",
      "19    038.789.274-52\n",
      "20    052.561.084-76\n",
      "21    087.696.894-90\n",
      "22    705.161.014-71\n",
      "23    119.453.184-90\n",
      "24    035.712.025.62\n",
      "25    065.424.084.10\n",
      "26    069.645.551-02\n",
      "27    709.752.244-50\n",
      "28    074.162.284-09\n",
      "29    074.856.264-85\n",
      "30    071.870.154-29\n",
      "31    031.231.094-37\n",
      "Name: CPF, dtype: object\n"
     ]
    }
   ],
   "source": [
    "import pandas as pd\n",
    "funcionarios=pd.read_excel('Funcionarios.xlsx')\n",
    "\n",
    "CPF=funcionarios['CPF']\n",
    "\n",
    "\n",
    "listas=[]\n",
    "for coisas in CPF:\n",
    "\n",
    "\n",
    "    coisas=str(coisas).split('.')\n",
    "\n",
    "print(CPF)\n",
    "\n",
    "\n"
   ]
  },
  {
   "cell_type": "code",
   "execution_count": null,
   "metadata": {},
   "outputs": [
    {
     "data": {
      "text/plain": [
       "[]"
      ]
     },
     "execution_count": 4,
     "metadata": {},
     "output_type": "execute_result"
    }
   ],
   "source": [
    "Davi='102.606.484-85'\n",
    "print(Davi.split())\n"
   ]
  }
 ],
 "metadata": {
  "kernelspec": {
   "display_name": "Python 3",
   "language": "python",
   "name": "python3"
  },
  "language_info": {
   "codemirror_mode": {
    "name": "ipython",
    "version": 3
   },
   "file_extension": ".py",
   "mimetype": "text/x-python",
   "name": "python",
   "nbconvert_exporter": "python",
   "pygments_lexer": "ipython3",
   "version": "3.11.0"
  },
  "orig_nbformat": 4,
  "vscode": {
   "interpreter": {
    "hash": "b2bdca9d47efd0be40caf8f5322e20e631431483f6472735e1d20637e7243751"
   }
  }
 },
 "nbformat": 4,
 "nbformat_minor": 2
}
