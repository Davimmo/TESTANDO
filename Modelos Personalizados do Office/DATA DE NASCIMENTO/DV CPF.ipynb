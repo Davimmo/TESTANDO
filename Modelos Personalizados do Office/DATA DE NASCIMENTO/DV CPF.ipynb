{
 "cells": [
  {
   "cell_type": "code",
   "execution_count": 1,
   "metadata": {},
   "outputs": [
    {
     "name": "stdout",
     "output_type": "stream",
     "text": [
      "CPF gerado: 67992619773\n"
     ]
    }
   ],
   "source": [
    "from random import randint\n",
    "\n",
    "\n",
    "def cpf_validate(numbers):\n",
    "    #  Obtém os números do CPF e ignora outros caracteres\n",
    "    cpf = [int(char) for char in numbers if char.isdigit()]\n",
    "\n",
    "    #  Verifica se o CPF tem 11 dígitos\n",
    "    if len(cpf) != 11:\n",
    "        return False\n",
    "\n",
    "    #  Verifica se o CPF tem todos os números iguais, ex: 111.111.111-11\n",
    "    #  Esses CPFs são considerados inválidos mas passam na validação dos dígitos\n",
    "    #  Antigo código para referência: if all(cpf[i] == cpf[i+1] for i in range (0, len(cpf)-1))\n",
    "    if cpf == cpf[::-1]:\n",
    "        return False\n",
    "\n",
    "    #  Valida os dois dígitos verificadores\n",
    "    for i in range(9, 11):\n",
    "        value = sum((cpf[num] * ((i+1) - num) for num in range(0, i)))\n",
    "        digit = ((value * 10) % 11) % 10\n",
    "        if digit != cpf[i]:\n",
    "            return False\n",
    "    return True\n",
    "\n",
    "\n",
    "def cpf_generate():\n",
    "    #  Gera os primeiros nove dígitos (e certifica-se de que não são todos iguais)\n",
    "    while True:\n",
    "        cpf = [randint(0, 9) for i in range(9)]\n",
    "        if cpf != cpf[::-1]:\n",
    "            break\n",
    "\n",
    "    #  Gera os dois dígitos verificadores\n",
    "    for i in range(9, 11):\n",
    "        value = sum((cpf[num] * ((i + 1) - num) for num in range(0, i)))\n",
    "        digit = ((value * 10) % 11) % 10\n",
    "        cpf.append(digit)\n",
    "\n",
    "    #  Retorna o CPF como string\n",
    "    result = ''.join(map(str, cpf))\n",
    "    return result\n",
    "\n",
    "\n",
    "opcao = int(input('''[1] Validar um CPF\n",
    "[2] Gerar um CPF válido\n",
    "Opção: '''))\n",
    "if opcao == 1:\n",
    "    cpf = input('Digite o CPF: ')\n",
    "    if cpf_validate(cpf):\n",
    "        print('CPF válido.')\n",
    "    else:\n",
    "        print('CPF inválido.')\n",
    "elif opcao == 2:\n",
    "    cpf = cpf_generate()\n",
    "    if cpf_validate(cpf):\n",
    "        print(f'CPF gerado: {cpf[:3]}{cpf[3:6]}{cpf[6:9]}{cpf[9:]}')\n",
    "else:\n",
    "    print('Inválido.')"
   ]
  },
  {
   "cell_type": "code",
   "execution_count": 5,
   "metadata": {},
   "outputs": [
    {
     "ename": "SyntaxError",
     "evalue": "positional argument follows keyword argument (3755995801.py, line 3)",
     "output_type": "error",
     "traceback": [
      "\u001b[1;36m  Cell \u001b[1;32mIn [5], line 3\u001b[1;36m\u001b[0m\n\u001b[1;33m    print(Davi.split(sep='.','-'))\u001b[0m\n\u001b[1;37m                                ^\u001b[0m\n\u001b[1;31mSyntaxError\u001b[0m\u001b[1;31m:\u001b[0m positional argument follows keyword argument\n"
     ]
    }
   ],
   "source": []
  }
 ],
 "metadata": {
  "kernelspec": {
   "display_name": "Python 3",
   "language": "python",
   "name": "python3"
  },
  "language_info": {
   "codemirror_mode": {
    "name": "ipython",
    "version": 3
   },
   "file_extension": ".py",
   "mimetype": "text/x-python",
   "name": "python",
   "nbconvert_exporter": "python",
   "pygments_lexer": "ipython3",
   "version": "3.11.0"
  },
  "orig_nbformat": 4,
  "vscode": {
   "interpreter": {
    "hash": "b2bdca9d47efd0be40caf8f5322e20e631431483f6472735e1d20637e7243751"
   }
  }
 },
 "nbformat": 4,
 "nbformat_minor": 2
}
