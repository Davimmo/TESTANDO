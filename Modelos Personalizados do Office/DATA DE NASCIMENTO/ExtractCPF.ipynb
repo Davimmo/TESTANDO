{
 "cells": [
  {
   "cell_type": "code",
   "execution_count": 4,
   "metadata": {},
   "outputs": [
    {
     "name": "stdout",
     "output_type": "stream",
     "text": [
      "08174713409\n",
      "11366880480\n",
      "09691640414\n",
      "10260648485\n",
      "15555576439\n",
      "11767605480\n",
      "08695767477\n",
      "27879586806\n",
      "71389128466\n",
      "10899116450\n",
      "08256307463\n",
      "06942569437\n",
      "10293870446\n",
      "11683142403\n",
      "84432047453\n",
      "00748095470\n",
      "71640596402\n",
      "05701385400\n",
      "03878927452\n",
      "05256108476\n",
      "08769689490\n",
      "70516101471\n",
      "11945318490\n",
      "03571202562\n",
      "06542408410\n",
      "06964555102\n",
      "70975224450\n",
      "07416228409\n",
      "07485626485\n",
      "07187015429\n",
      "03123109437\n"
     ]
    }
   ],
   "source": [
    "import pandas as pd\n",
    "\n",
    "CPF=pd.read_excel('Funcionarios.xlsx')\n",
    "\n",
    "CPF=CPF['CPF']\n",
    "\n",
    "for i in CPF:\n",
    "    i=str(i)\n",
    "    i=i[0:3]+i[4:7]+i[8:11]+i[12:]\n",
    "    print(i)\n"
   ]
  }
 ],
 "metadata": {
  "kernelspec": {
   "display_name": "Python 3",
   "language": "python",
   "name": "python3"
  },
  "language_info": {
   "codemirror_mode": {
    "name": "ipython",
    "version": 3
   },
   "file_extension": ".py",
   "mimetype": "text/x-python",
   "name": "python",
   "nbconvert_exporter": "python",
   "pygments_lexer": "ipython3",
   "version": "3.11.0"
  },
  "orig_nbformat": 4,
  "vscode": {
   "interpreter": {
    "hash": "b2bdca9d47efd0be40caf8f5322e20e631431483f6472735e1d20637e7243751"
   }
  }
 },
 "nbformat": 4,
 "nbformat_minor": 2
}
