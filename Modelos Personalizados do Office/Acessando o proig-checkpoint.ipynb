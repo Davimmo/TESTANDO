{
 "cells": [
  {
   "cell_type": "code",
   "execution_count": 1,
   "id": "4a7d107f",
   "metadata": {},
   "outputs": [],
   "source": [
    "import time\n",
    "from selenium import webdriver\n",
    "from selenium.webdriver.common.by import By\n",
    "from selenium.webdriver.common.keys import Keys\n",
    "\n",
    "class TestDavi1():\n",
    "  def setup_method(self, method):\n",
    "    self.driver = webdriver.Chrome()\n",
    "    self.vars = {}\n",
    "  \n",
    "  def teardown_method(self, method):\n",
    "    self.driver.quit()\n",
    "  \n",
    "  def test_davi1(self):\n",
    "    self.driver.get(\"https://www.educacao.petrolina.pe.gov.br/ator/educadores\")\n",
    "    self.driver.set_window_size(976, 1040)\n",
    "    self.driver.find_element(By.CSS_SELECTOR, \"html\").click()\n",
    "    self.driver.find_element(By.CSS_SELECTOR, \".LayoutLoginCampos\").click()\n",
    "    self.driver.find_element(By.ID, \"login\").click()\n",
    "    self.driver.find_element(By.ID, \"login\").send_keys(\"Davi.BC\")\n",
    "    self.driver.find_element(By.ID, \"senha\").send_keys(\"@Vk5644202510\")\n",
    "    self.driver.find_element(By.ID, \"senha\").send_keys(Keys.ENTER)\n",
    "    self.driver.find_element(By.CSS_SELECTOR, \".menuAcessoRestrito\").click()\n",
    "    self.driver.find_element(By.LINK_TEXT, \"Gestão Escolar\").click()\n",
    "    self.driver.find_element(By.CSS_SELECTOR, \".icon-eol1331\").click()\n",
    "    self.driver.find_element(By.XPATH, \"//div[3]/div/div/div/div\").click()\n",
    "    self.driver.find_element(By.XPATH, \"//ul/li\").click()\n",
    "    self.driver.find_element(By.XPATH, \"//ul/li[4]\").click()\n",
    "    self.driver.switch_to.frame(0)\n",
    "    self.driver.find_element(By.NAME, \"txtAluno\").click()\n",
    "\n",
    "\n",
    "\n",
    "\n",
    "\n"
   ]
  },
  {
   "cell_type": "code",
   "execution_count": 4,
   "id": "02a6f342",
   "metadata": {},
   "outputs": [],
   "source": []
  }
 ],
 "metadata": {
  "kernelspec": {
   "display_name": "Python 3.11.0 64-bit",
   "language": "python",
   "name": "python3"
  },
  "language_info": {
   "codemirror_mode": {
    "name": "ipython",
    "version": 3
   },
   "file_extension": ".py",
   "mimetype": "text/x-python",
   "name": "python",
   "nbconvert_exporter": "python",
   "pygments_lexer": "ipython3",
   "version": "3.11.0 (main, Oct 24 2022, 18:26:48) [MSC v.1933 64 bit (AMD64)]"
  },
  "vscode": {
   "interpreter": {
    "hash": "b2bdca9d47efd0be40caf8f5322e20e631431483f6472735e1d20637e7243751"
   }
  }
 },
 "nbformat": 4,
 "nbformat_minor": 5
}
