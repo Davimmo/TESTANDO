{
 "cells": [
  {
   "cell_type": "code",
   "execution_count": null,
   "metadata": {},
   "outputs": [],
   "source": [
    "import random\n",
    "\n",
    "\n",
    "\n",
    "def rolar_dados(quantidade_de_dados,numero_de_faces):\n",
    "    total=[]    \n",
    "    for rolagem in range(quantidade_de_dados):\n",
    "        resultado_do_dado=random.randint(1,numero_de_faces)\n",
    "        total.append(resultado_do_dado)\n",
    "    \n",
    "\n",
    "    print(sum(total))\n",
    "    \n",
    "\n",
    "for rolagem in range(25):\n",
    "    rolar_dados(6,10)\n",
    "\n"
   ]
  },
  {
   "cell_type": "code",
   "execution_count": null,
   "metadata": {},
   "outputs": [],
   "source": []
  }
 ],
 "metadata": {
  "kernelspec": {
   "display_name": "Python 3.11.0 64-bit",
   "language": "python",
   "name": "python3"
  },
  "language_info": {
   "codemirror_mode": {
    "name": "ipython",
    "version": 3
   },
   "file_extension": ".py",
   "mimetype": "text/x-python",
   "name": "python",
   "nbconvert_exporter": "python",
   "pygments_lexer": "ipython3",
   "version": "3.11.0"
  },
  "orig_nbformat": 4,
  "vscode": {
   "interpreter": {
    "hash": "b2bdca9d47efd0be40caf8f5322e20e631431483f6472735e1d20637e7243751"
   }
  }
 },
 "nbformat": 4,
 "nbformat_minor": 2
}
